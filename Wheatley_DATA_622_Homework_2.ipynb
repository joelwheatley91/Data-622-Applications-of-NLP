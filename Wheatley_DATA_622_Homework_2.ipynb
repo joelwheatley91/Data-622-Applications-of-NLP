{
  "nbformat": 4,
  "nbformat_minor": 0,
  "metadata": {
    "colab": {
      "provenance": []
    },
    "kernelspec": {
      "name": "python3",
      "display_name": "Python 3"
    },
    "language_info": {
      "name": "python"
    }
  },
  "cells": [
    {
      "cell_type": "markdown",
      "source": [
        "Applications of Natural Language Processing\n",
        "\n",
        "Homework Two\n",
        "\n",
        "Joel Wheatley\n",
        "\n",
        "9/9/2025"
      ],
      "metadata": {
        "id": "SQv_1J6cXdzM"
      }
    },
    {
      "cell_type": "markdown",
      "source": [
        "1. Read the File\n",
        "\n",
        "Read the content of https://www.cnn.com/2025/06/13/style/why-luxury-brands-are-so-expensive and print the first 700 characters.\n",
        "\n",
        "2. Remove HTML Tags\n",
        "If any HTML tags are present in the file, remove them so that only the raw text remains.\n",
        "3. Lower and Remove Punctuation\n",
        "Convert all text to lowercase and remove all punctuation characters.\n",
        "4. Remove Stopwords\n",
        "Remove English stopwords from the text. (Use NLTK’s list of stopwords.)\n",
        "5. Lemmatize the Text\n",
        "Lemmatize all remaining words (use NLTK’s WordNetLemmatizer) and print the first 50\n",
        "lemmatized words. Is there any difference in your output if you stemmed the text?"
      ],
      "metadata": {
        "id": "CBrdi6gRXdWb"
      }
    },
    {
      "cell_type": "code",
      "execution_count": null,
      "metadata": {
        "colab": {
          "base_uri": "https://localhost:8080/"
        },
        "id": "duJ9zxizXYos",
        "outputId": "46a8eb38-02a0-45c9-8dc2-0d541fc58d25"
      },
      "outputs": [
        {
          "output_type": "stream",
          "name": "stdout",
          "text": [
            "Collecting cloudscraper\n",
            "  Downloading cloudscraper-1.2.71-py2.py3-none-any.whl.metadata (19 kB)\n",
            "Requirement already satisfied: pyparsing>=2.4.7 in /usr/local/lib/python3.12/dist-packages (from cloudscraper) (3.2.3)\n",
            "Requirement already satisfied: requests>=2.9.2 in /usr/local/lib/python3.12/dist-packages (from cloudscraper) (2.32.4)\n",
            "Requirement already satisfied: requests-toolbelt>=0.9.1 in /usr/local/lib/python3.12/dist-packages (from cloudscraper) (1.0.0)\n",
            "Requirement already satisfied: charset_normalizer<4,>=2 in /usr/local/lib/python3.12/dist-packages (from requests>=2.9.2->cloudscraper) (3.4.3)\n",
            "Requirement already satisfied: idna<4,>=2.5 in /usr/local/lib/python3.12/dist-packages (from requests>=2.9.2->cloudscraper) (3.10)\n",
            "Requirement already satisfied: urllib3<3,>=1.21.1 in /usr/local/lib/python3.12/dist-packages (from requests>=2.9.2->cloudscraper) (2.5.0)\n",
            "Requirement already satisfied: certifi>=2017.4.17 in /usr/local/lib/python3.12/dist-packages (from requests>=2.9.2->cloudscraper) (2025.8.3)\n",
            "Downloading cloudscraper-1.2.71-py2.py3-none-any.whl (99 kB)\n",
            "\u001b[?25l   \u001b[90m━━━━━━━━━━━━━━━━━━━━━━━━━━━━━━━━━━━━━━━━\u001b[0m \u001b[32m0.0/99.7 kB\u001b[0m \u001b[31m?\u001b[0m eta \u001b[36m-:--:--\u001b[0m\r\u001b[2K   \u001b[90m━━━━━━━━━━━━━━━━━━━━━━━━━━━━━━━━━━━━━━━━\u001b[0m \u001b[32m99.7/99.7 kB\u001b[0m \u001b[31m4.7 MB/s\u001b[0m eta \u001b[36m0:00:00\u001b[0m\n",
            "\u001b[?25hInstalling collected packages: cloudscraper\n",
            "Successfully installed cloudscraper-1.2.71\n"
          ]
        }
      ],
      "source": [
        "#Cloud Scaper not natively found on Colab, so need to install it\n",
        "!pip install cloudscraper\n",
        "from bs4 import BeautifulSoup\n",
        "import requests\n",
        "import cloudscraper"
      ]
    },
    {
      "cell_type": "code",
      "source": [
        "url = 'https://www.cnn.com/2025/06/13/style/why-luxury-brands-are-so-expensive'\n",
        "r = requests.get(url)\n",
        "\n",
        "print(r.status_code)\n",
        "\n",
        "html = r.text\n",
        "\n",
        "soup = BeautifulSoup(html, 'html.parser')\n"
      ],
      "metadata": {
        "colab": {
          "base_uri": "https://localhost:8080/"
        },
        "id": "jXgQTw1JXyx6",
        "outputId": "da563eb4-7e20-416b-cdb0-ddde9045cf7e"
      },
      "execution_count": null,
      "outputs": [
        {
          "output_type": "stream",
          "name": "stdout",
          "text": [
            "200\n"
          ]
        }
      ]
    },
    {
      "cell_type": "code",
      "source": [
        "#Remove HTML Text\n",
        "text = soup.get_text()"
      ],
      "metadata": {
        "id": "GWbHsKWgYbbQ"
      },
      "execution_count": null,
      "outputs": []
    },
    {
      "cell_type": "code",
      "source": [
        "#Lower and Remove Punctuation Convert all text to lowercase and remove all punctuation characters.\n",
        "import re\n",
        "cleaned_text = re.sub(r'[^\\w\\s]', '', text)\n",
        "cleaned_text = cleaned_text.lower()\n",
        "cleaned_text = ' '.join(cleaned_text.split())\n",
        "print(cleaned_text)"
      ],
      "metadata": {
        "colab": {
          "base_uri": "https://localhost:8080/"
        },
        "id": "igy7Z13RZ6TS",
        "outputId": "9bbba95a-b0c5-4a38-cd88-9caf3b7011a0"
      },
      "execution_count": null,
      "outputs": [
        {
          "output_type": "stream",
          "name": "stdout",
          "text": [
            "luxury brands are more expensive than ever theyre telling you why theyre worth it cnn cnn values your feedback 1 how relevant is this ad to you 2 did you encounter any technical issues video player was slow to load content video content never loaded ad froze or did not finish loading video content did not start after ad audio on ad was too loud other issues ad never loaded ad preventedslowed the page from loading content moved around while ad loaded ad was repetitive to ads ive seen previously other issues cancel submit thank you your effort and contribution in providing this feedback is much appreciated close ad feedback close icon arts design fashion architecture luxury beauty video more arts design fashion architecture luxury beauty video watch listen live tv subscribe sign in my account settings newsletters topics you follow sign out your cnn account sign in to your cnn account sign in my account settings newsletters topics you follow sign out your cnn account sign in to your cnn account live tv listen watch edition us international arabic español edition us international arabic español arts design fashion architecture luxury beauty video follow cnn style us crime justice world africa americas asia australia china europe india middle east united kingdom politics trump facts first cnn polls 2025 elections business tech media calculators videos markets premarkets afterhours fear greed investing markets now nightcap health life but better fitness food sleep mindfulness relationships cnn underscored electronics fashion beauty health fitness home reviews deals gifts travel outdoors pets entertainment movies television celebrity tech innovate foreseeable future mission ahead work transformed innovative cities style arts design fashion architecture luxury beauty video travel destinations food drink stay videos sports pro football college football basketball baseball soccer olympics hockey science space life unearthed climate solutions weather weather video climate ukrainerussia war israelhamas war watch live tv cnn headlines cnn shorts shows az cnn10 cnn max cnn tv schedules flashdocs listen cnn 5 things chasing life with dr sanjay gupta the assignment with audie cornish one thing tug of war cnn political briefing the axe files all there is with anderson cooper all cnn audio podcasts games daily crossword jumble crossword photo shuffle sudoblock sudoku 5 things quiz about cnn subscribe photos investigations cnn profiles cnn leadership cnn newsletters work for cnn style fashion 9 min read luxury brands are more expensive than ever theyre telling you why theyre worth it by kati chitrakorn cnn 9 min read published 1038 am edt fri june 13 2025 link copied a new book published by assouline spotlights italian shoemaker santonis heritage and craftsmanship oliver pilchercourtesy santoni london cnn more than ever highend brands want you to know exactly how and where their goods are made they are producing enormous glossy coffee table books showing whitecoated workers handstitching products in glamorous workshops and creating marketing campaigns emphasizing the exquisite materials and dedicated handiwork that go into the making of their very very expensive products these companies are trying to explain the value of their creations to consumers because their profits are slowing even as their prices are increasing while the personal luxury goods market was worth 363 billion about 415 billion in 2024 up from 223 billion 242 billion a decade prior according to the global management consultancy bain the sector has been struggling with some of its slowest growth in years luxury companies began to charge more during the pandemic as greater personal savings and financial stimulus led shoppers to spend heavily on highend products now luxury prices in europe are at least 52 higher than they were in 2019 according to hsbc tods often puts its artisans front and center in its store a craftsperson shows how part of the brands signature gommino loafer is made marco erba prices are now testing even the most ardent of luxury supporters i mean its outrageous david fischer founder and ceo of the youth culture platform highsnobiety told cnn over a call for the most part its not that their quality has gotten 52 better the prices have gone up tremendously yet the quality hasnt some of these price tags are just wild is one typical comment on the reddit forum called handbags i get that youre paying for the brand name but when it comes to actual quality it feels like were getting ripped off sometimes sharp markups seem to have subsequently impacted sales with several companies reporting disappointing numbers chanel for example saw its operating profit fall 30 to 448 billion in 2024 and while the brand typically increases prices twice yearly it wont this year i think people are now waking up and saying well im not really willing to spend that much money on something that doesnt hold value said fischer what makes a product luxurious what constitutes a luxury product is also broader than ever no longer is the term confined to traditional categories such as clothing wine and cars in the past few years anything with a high price point that promises quality a 759 le creuset cast iron oval casserole dish or a 1270 acqua di parma jumbo candle can also be marketed as premium now subdued demand for some luxury brands across all these sectors in the first quarter of 2025 is among the signs that there is a limit to how much people will spend thats why brands are increasingly leaning into deeper storytelling around craftsmanship as well as heritage and origin to rebuild trust and reestablish an emotional connection with consumers just this week italian brand ferragamo commissioned volkan yilmaz the content creator behind the viral online persona tanner leatherstein who takes apart and scrutinizes leather products from luxury brands and evaluates their worth in a sponsored ad yilmaz can be seen dissecting one of ferragamos top sellers the 2400 about 2783 hug bag and sharing his review of the product yilmaz gave the handbag top marks across craftsmanship before going on to add the italian government should set this bag as a benchmark for the made in italy label requirement tannerleatherstein ad soft hug by ferragamo the first bag to earn my perfect 5 disclaimer this video is a paid partnership with ferragamo the brand provided the tramezza shoes and also supported the production of this video however all opinions analysis and commentary are entirely my ownbased on my experience as a leather expert and craftsman ferragamo salvatoreferragamo hugbag ferragamohugbag leatherbag bagtok bagreview luxurybag tiktokfashion original sound tanner leatherstein tanner leatherstein the appeal is obvious the emotional factor of being part of a brand is not to be overlooked said gab waller a personal shopper with highprofile clients such as hailey bieber and sofia richie grainge over a call waller pointed to the popularity of pradas sister label miu miu whose retail sales were up 60 in the first quarter of the financial year as an example of a brand that is driven not only by a brilliant way of marketing that resonates with customers but also by its association with pieces that will last the test of time a requirement for many of her current clients damaging the brand the notion of craftsmanship itself was thrown into question last july when highend labels including armani and dior which is owned by the worlds biggest luxury company lvmh were probed by italian authorities over worker exploitation claims valentino too became entangled this year when one of its units was placed under judicial administration for a year after worker abuse inside its supply chain was reported at the time both armani and dior said they would cooperate with authorities and denied wrongdoing valentino also said it would cooperate with the authorities to better understand what prompted the investigation many luxury brands typically employ independent factories around the world to make their garments though a growing number including chanel brunello cucinelli and burberry have been snapping up suppliers to ensure access to highquality materials and greater operational control in may dior said it would pay 23 million to help victims of labor exploitation to settle an investigation in italy on the working conditions of its suppliers mike kempin picturesgetty images but those issues alone arent what prompted brands to assert their value in this way claudia darpizio senior partner and global head of fashion and luxury at consultancy firm bain company observed while recent controversies like labor scandals or price inflation may have accelerated scrutiny this shift is less a reaction to individual episodes and more a response to a broader erosion in trust and perceived value in a context where consumers are questioning what justifies premium prices brands are going back to what made them meaningful in the first place their savoirfaire their narrative and their cultural relevance she said tiktok accounts like dhgateofficial and rosiesportswear claim they can sell highvalue or luxury items directly to americans from dhgateofficialrosiesportsweartiktok related article chinese factories are taking the trade war somewhere new scrutiny on luxury supply chains heightened once more in april after us president donald trump announced stiff tariffs on china and social media erupted with videos of chinese manufacturers claiming to expose where luxury goods come from many declared that they were the origin of the luxury goods that most of the world had been spending on not italy those videos garnered so much attention globally that at best people no longer knew what to believe and at worst believed the claims entirely the incident demonstrated how easy it was to sway public opinion observed audrey dahmen brand strategy and marketing lead for twentyfirstcenturybrand a global brand consultancy with clients including zalando everlane and depop its especially damaging when something like that happens to luxury brands because youre spending a much higher price point than you would with other brands dahmen added over a call its part of the image right your aspirational image is part of the justification for the price a creative overhaul is taking place across many luxury brands including tom ford the labels designer haider ackermann showed his debut collection in march kristy sparowgetty images miu miu which is owned by prada has continued to defy the luxury slowdown in may the brand reported a 60 jump in retail sales for the first financial quarter victor boykogetty images dahmen attributed the public reactions to a new consciousness that is being driven by the rise of platforms like tiktok she explained if customers notice something they are going to talk about it last year it was just someone noticing hey your bag cost something like 35 euros to make so why am i paying 2000 weve always known it as the experts but its becoming more clear to the actual consumer especially as they are being squeezed on money and are starting to make better decisions for highsnobietys fischer recent big changes in luxurys creative leadership also add to the uncertainty chanel dior balenciaga gucci celine bottega veneta and loewe are among the brands whose new creative directors will present their debut collections in the fall meanwhile givenchy tom ford lanvin and calvin klein also have newish designers at their helm some brands are cycling through multiple creative directors and shoppers might not even like the designs being put out said fischer all of these things happening has ultimately led to mistrust luxury is a word that sounds a bit gimmicky at this point gorgeous testaments to craft in june italian highend shoemaker santoni put out a hefty new hardcover with book publisher assouline the tome which features more than 180 images charts the labels journey over five decades from its humble beginnings in corridonia in italys le marche region to becoming a global multimilliondollar business that now also sells bags belts and other leather goods it felt like the right time to tell our story not just through products but through values vision and identity chairman and executive president giuseppe santoni told cnn over email we believe that true value lies in what a product gives back over time in its quality longevity and the emotion it carries he added theres a growing appreciation today for authenticity craftsmanship and human touch qualities that have always been part of our dna this book is our way of opening a window into that world italian luxury brand bottega venetas latest campaign craft is our language is an ode to the tactility of slow craft in the fastpaced digital age jack davisoncourtesy bottega veneta fellow italian label tods is also celebrating the launch of a new book published in april during milans designer furniture fair salone del mobile the 286page tome features a series of intimate portraits and conversations that shine a light on the countrys artisans they range from designer walter chiapponi the brands creative director since 2019 to a fishmonger in santa margherita and a glassblower in murano a series of events to promote the book has also been rolling out worldwide from new york to london meanwhile luxury label bottega veneta which shares the same owner as gucci and saint laurent has a new marketing campaign that doubles as a love letter to slow craft and tactility in the digital age titled craft is our language and featuring moody black and white endorsements from celebrities such as julianne moore zadie smith and lauren hutton it celebrates 50 years of the brands classic intrecciato leather weave theres a growing appreciation today for authenticity craftsmanship and human touch qualities that have always been part of our dna said santonis chairman and executive president giuseppe santoni oliver pilchercourtesy santoni while an onslaught of craft marketing has hit consumers now the playbook is not new tods for example has long featured its artisans as part of its presentations at milan fashion week in 2011 it also committed to funding the restoration of romes colosseum setting a precedent for such stewardship that would later be followed by luxury peers see the trevi fountain which reopened in 2015 after a restoration funded by fendi the spanish steps which were restored in 2016 thanks to bulgari and the grand palais in paris which reopened in january after a spectacular renovation of which 25 million 286 million was contributed by chanel mandatory credit photo by andre painepaefeshutterstock 14552941cg british designer jonathan anderson enters the runway at the end of the presentation of the springsummer 2025 menswear collection for loewe fashion house during the paris fashion week in paris france 22 june 2024 the presentation of the mens collections runs from 18 to 23 june loewe runway men paris fashion week springsummer 2025 france 22 jun 2024 andre painepaefeshutterstock related article no designer captures the zeitgeist more than he does now hes taking over dior loewe which was founded by a collective of leathermaking artisans has since 2016 run the loewe foundation craft prize which is annually awarded to two craftspeople in march the spanish brand introduced a new book crafted world to celebrate a decade of work by its former creative director jonathan anderson at paris fashion week that same month the designers final collection for the brand was on show however there was no starstudded runway just the designs displayed on mannequins which guests could appreciate up close while the focus on craft makes a lot of sense for luxury companies because its so close to the core business its also one of the safest spaces in the view of the brand strategist dahmens dei or sustainability two hot topics in luxury in recent years is ultimately politically charged she explained you cannot get politically annoyed by someone talking about crafts it feels like luxury brands are going back to taking a neutral stance and exploring safer territories with minimal legal repercussions ad feedback ad feedback ad feedback ad feedback ad feedback subscribe sign in my account settings newsletters topics you follow sign out your cnn account sign in to your cnn account live tv listen watch us crime justice world africa americas asia australia china europe india middle east united kingdom politics trump facts first cnn polls 2025 elections business tech media calculators videos markets premarkets afterhours fear greed investing markets now nightcap health life but better fitness food sleep mindfulness relationships cnn underscored electronics fashion beauty health fitness home reviews deals gifts travel outdoors pets entertainment movies television celebrity tech innovate foreseeable future mission ahead work transformed innovative cities style arts design fashion architecture luxury beauty video travel destinations food drink stay news videos sports pro football college football basketball baseball soccer olympics hockey science space life unearthed climate solutions weather weather video climate ukrainerussia war israelhamas war watch live tv cnn headlines cnn shorts shows az cnn10 cnn max cnn tv schedules flashdocs listen cnn 5 things chasing life with dr sanjay gupta the assignment with audie cornish one thing tug of war cnn political briefing the axe files all there is with anderson cooper all cnn audio podcasts games daily crossword jumble crossword photo shuffle sudoblock sudoku 5 things quiz about cnn subscribe photos investigations cnn profiles cnn leadership cnn newsletters work for cnn watch listen live tv follow cnn style subscribe sign in my account settings newsletters topics you follow sign out your cnn account sign in to your cnn account terms of use privacy policy ad choices accessibility cc about subscribe newsletters transcripts help center 2025 cable news network a warner bros discovery company all rights reserved cnn sans 2016 cable news network\n"
          ]
        }
      ]
    },
    {
      "cell_type": "code",
      "source": [
        "#Remove Stopwords Remove English stopwords from the text. (Use NLTK’s list of stopwords.)\n",
        "import nltk\n",
        "nltk.download('punkt_tab')\n",
        "from nltk.tokenize import word_tokenize\n",
        "tokens = word_tokenize(cleaned_text)\n",
        "\n",
        "\n",
        "from nltk.corpus import stopwords\n",
        "nltk.download('stopwords')\n",
        "stop_words = set(stopwords.words('english'))\n",
        "\n",
        "filtered_text = [word for word in tokens if word.lower() not in stop_words]\n",
        "print(filtered_text)"
      ],
      "metadata": {
        "colab": {
          "base_uri": "https://localhost:8080/"
        },
        "id": "babMzfymaiwR",
        "outputId": "f7aaef4f-f012-4bc4-ba08-7899219f9a5f"
      },
      "execution_count": null,
      "outputs": [
        {
          "output_type": "stream",
          "name": "stdout",
          "text": [
            "['luxury', 'brands', 'expensive', 'ever', 'theyre', 'telling', 'theyre', 'worth', 'cnn', 'cnn', 'values', 'feedback', '1', 'relevant', 'ad', '2', 'encounter', 'technical', 'issues', 'video', 'player', 'slow', 'load', 'content', 'video', 'content', 'never', 'loaded', 'ad', 'froze', 'finish', 'loading', 'video', 'content', 'start', 'ad', 'audio', 'ad', 'loud', 'issues', 'ad', 'never', 'loaded', 'ad', 'preventedslowed', 'page', 'loading', 'content', 'moved', 'around', 'ad', 'loaded', 'ad', 'repetitive', 'ads', 'ive', 'seen', 'previously', 'issues', 'cancel', 'submit', 'thank', 'effort', 'contribution', 'providing', 'feedback', 'much', 'appreciated', 'close', 'ad', 'feedback', 'close', 'icon', 'arts', 'design', 'fashion', 'architecture', 'luxury', 'beauty', 'video', 'arts', 'design', 'fashion', 'architecture', 'luxury', 'beauty', 'video', 'watch', 'listen', 'live', 'tv', 'subscribe', 'sign', 'account', 'settings', 'newsletters', 'topics', 'follow', 'sign', 'cnn', 'account', 'sign', 'cnn', 'account', 'sign', 'account', 'settings', 'newsletters', 'topics', 'follow', 'sign', 'cnn', 'account', 'sign', 'cnn', 'account', 'live', 'tv', 'listen', 'watch', 'edition', 'us', 'international', 'arabic', 'español', 'edition', 'us', 'international', 'arabic', 'español', 'arts', 'design', 'fashion', 'architecture', 'luxury', 'beauty', 'video', 'follow', 'cnn', 'style', 'us', 'crime', 'justice', 'world', 'africa', 'americas', 'asia', 'australia', 'china', 'europe', 'india', 'middle', 'east', 'united', 'kingdom', 'politics', 'trump', 'facts', 'first', 'cnn', 'polls', '2025', 'elections', 'business', 'tech', 'media', 'calculators', 'videos', 'markets', 'premarkets', 'afterhours', 'fear', 'greed', 'investing', 'markets', 'nightcap', 'health', 'life', 'better', 'fitness', 'food', 'sleep', 'mindfulness', 'relationships', 'cnn', 'underscored', 'electronics', 'fashion', 'beauty', 'health', 'fitness', 'home', 'reviews', 'deals', 'gifts', 'travel', 'outdoors', 'pets', 'entertainment', 'movies', 'television', 'celebrity', 'tech', 'innovate', 'foreseeable', 'future', 'mission', 'ahead', 'work', 'transformed', 'innovative', 'cities', 'style', 'arts', 'design', 'fashion', 'architecture', 'luxury', 'beauty', 'video', 'travel', 'destinations', 'food', 'drink', 'stay', 'videos', 'sports', 'pro', 'football', 'college', 'football', 'basketball', 'baseball', 'soccer', 'olympics', 'hockey', 'science', 'space', 'life', 'unearthed', 'climate', 'solutions', 'weather', 'weather', 'video', 'climate', 'ukrainerussia', 'war', 'israelhamas', 'war', 'watch', 'live', 'tv', 'cnn', 'headlines', 'cnn', 'shorts', 'shows', 'az', 'cnn10', 'cnn', 'max', 'cnn', 'tv', 'schedules', 'flashdocs', 'listen', 'cnn', '5', 'things', 'chasing', 'life', 'dr', 'sanjay', 'gupta', 'assignment', 'audie', 'cornish', 'one', 'thing', 'tug', 'war', 'cnn', 'political', 'briefing', 'axe', 'files', 'anderson', 'cooper', 'cnn', 'audio', 'podcasts', 'games', 'daily', 'crossword', 'jumble', 'crossword', 'photo', 'shuffle', 'sudoblock', 'sudoku', '5', 'things', 'quiz', 'cnn', 'subscribe', 'photos', 'investigations', 'cnn', 'profiles', 'cnn', 'leadership', 'cnn', 'newsletters', 'work', 'cnn', 'style', 'fashion', '9', 'min', 'read', 'luxury', 'brands', 'expensive', 'ever', 'theyre', 'telling', 'theyre', 'worth', 'kati', 'chitrakorn', 'cnn', '9', 'min', 'read', 'published', '1038', 'edt', 'fri', 'june', '13', '2025', 'link', 'copied', 'new', 'book', 'published', 'assouline', 'spotlights', 'italian', 'shoemaker', 'santonis', 'heritage', 'craftsmanship', 'oliver', 'pilchercourtesy', 'santoni', 'london', 'cnn', 'ever', 'highend', 'brands', 'want', 'know', 'exactly', 'goods', 'made', 'producing', 'enormous', 'glossy', 'coffee', 'table', 'books', 'showing', 'whitecoated', 'workers', 'handstitching', 'products', 'glamorous', 'workshops', 'creating', 'marketing', 'campaigns', 'emphasizing', 'exquisite', 'materials', 'dedicated', 'handiwork', 'go', 'making', 'expensive', 'products', 'companies', 'trying', 'explain', 'value', 'creations', 'consumers', 'profits', 'slowing', 'even', 'prices', 'increasing', 'personal', 'luxury', 'goods', 'market', 'worth', '363', 'billion', '415', 'billion', '2024', '223', 'billion', '242', 'billion', 'decade', 'prior', 'according', 'global', 'management', 'consultancy', 'bain', 'sector', 'struggling', 'slowest', 'growth', 'years', 'luxury', 'companies', 'began', 'charge', 'pandemic', 'greater', 'personal', 'savings', 'financial', 'stimulus', 'led', 'shoppers', 'spend', 'heavily', 'highend', 'products', 'luxury', 'prices', 'europe', 'least', '52', 'higher', '2019', 'according', 'hsbc', 'tods', 'often', 'puts', 'artisans', 'front', 'center', 'store', 'craftsperson', 'shows', 'part', 'brands', 'signature', 'gommino', 'loafer', 'made', 'marco', 'erba', 'prices', 'testing', 'even', 'ardent', 'luxury', 'supporters', 'mean', 'outrageous', 'david', 'fischer', 'founder', 'ceo', 'youth', 'culture', 'platform', 'highsnobiety', 'told', 'cnn', 'call', 'part', 'quality', 'gotten', '52', 'better', 'prices', 'gone', 'tremendously', 'yet', 'quality', 'hasnt', 'price', 'tags', 'wild', 'one', 'typical', 'comment', 'reddit', 'forum', 'called', 'handbags', 'get', 'youre', 'paying', 'brand', 'name', 'comes', 'actual', 'quality', 'feels', 'like', 'getting', 'ripped', 'sometimes', 'sharp', 'markups', 'seem', 'subsequently', 'impacted', 'sales', 'several', 'companies', 'reporting', 'disappointing', 'numbers', 'chanel', 'example', 'saw', 'operating', 'profit', 'fall', '30', '448', 'billion', '2024', 'brand', 'typically', 'increases', 'prices', 'twice', 'yearly', 'wont', 'year', 'think', 'people', 'waking', 'saying', 'well', 'im', 'really', 'willing', 'spend', 'much', 'money', 'something', 'doesnt', 'hold', 'value', 'said', 'fischer', 'makes', 'product', 'luxurious', 'constitutes', 'luxury', 'product', 'also', 'broader', 'ever', 'longer', 'term', 'confined', 'traditional', 'categories', 'clothing', 'wine', 'cars', 'past', 'years', 'anything', 'high', 'price', 'point', 'promises', 'quality', '759', 'le', 'creuset', 'cast', 'iron', 'oval', 'casserole', 'dish', '1270', 'acqua', 'di', 'parma', 'jumbo', 'candle', 'also', 'marketed', 'premium', 'subdued', 'demand', 'luxury', 'brands', 'across', 'sectors', 'first', 'quarter', '2025', 'among', 'signs', 'limit', 'much', 'people', 'spend', 'thats', 'brands', 'increasingly', 'leaning', 'deeper', 'storytelling', 'around', 'craftsmanship', 'well', 'heritage', 'origin', 'rebuild', 'trust', 'reestablish', 'emotional', 'connection', 'consumers', 'week', 'italian', 'brand', 'ferragamo', 'commissioned', 'volkan', 'yilmaz', 'content', 'creator', 'behind', 'viral', 'online', 'persona', 'tanner', 'leatherstein', 'takes', 'apart', 'scrutinizes', 'leather', 'products', 'luxury', 'brands', 'evaluates', 'worth', 'sponsored', 'ad', 'yilmaz', 'seen', 'dissecting', 'one', 'ferragamos', 'top', 'sellers', '2400', '2783', 'hug', 'bag', 'sharing', 'review', 'product', 'yilmaz', 'gave', 'handbag', 'top', 'marks', 'across', 'craftsmanship', 'going', 'add', 'italian', 'government', 'set', 'bag', 'benchmark', 'made', 'italy', 'label', 'requirement', 'tannerleatherstein', 'ad', 'soft', 'hug', 'ferragamo', 'first', 'bag', 'earn', 'perfect', '5', 'disclaimer', 'video', 'paid', 'partnership', 'ferragamo', 'brand', 'provided', 'tramezza', 'shoes', 'also', 'supported', 'production', 'video', 'however', 'opinions', 'analysis', 'commentary', 'entirely', 'ownbased', 'experience', 'leather', 'expert', 'craftsman', 'ferragamo', 'salvatoreferragamo', 'hugbag', 'ferragamohugbag', 'leatherbag', 'bagtok', 'bagreview', 'luxurybag', 'tiktokfashion', 'original', 'sound', 'tanner', 'leatherstein', 'tanner', 'leatherstein', 'appeal', 'obvious', 'emotional', 'factor', 'part', 'brand', 'overlooked', 'said', 'gab', 'waller', 'personal', 'shopper', 'highprofile', 'clients', 'hailey', 'bieber', 'sofia', 'richie', 'grainge', 'call', 'waller', 'pointed', 'popularity', 'pradas', 'sister', 'label', 'miu', 'miu', 'whose', 'retail', 'sales', '60', 'first', 'quarter', 'financial', 'year', 'example', 'brand', 'driven', 'brilliant', 'way', 'marketing', 'resonates', 'customers', 'also', 'association', 'pieces', 'last', 'test', 'time', 'requirement', 'many', 'current', 'clients', 'damaging', 'brand', 'notion', 'craftsmanship', 'thrown', 'question', 'last', 'july', 'highend', 'labels', 'including', 'armani', 'dior', 'owned', 'worlds', 'biggest', 'luxury', 'company', 'lvmh', 'probed', 'italian', 'authorities', 'worker', 'exploitation', 'claims', 'valentino', 'became', 'entangled', 'year', 'one', 'units', 'placed', 'judicial', 'administration', 'year', 'worker', 'abuse', 'inside', 'supply', 'chain', 'reported', 'time', 'armani', 'dior', 'said', 'would', 'cooperate', 'authorities', 'denied', 'wrongdoing', 'valentino', 'also', 'said', 'would', 'cooperate', 'authorities', 'better', 'understand', 'prompted', 'investigation', 'many', 'luxury', 'brands', 'typically', 'employ', 'independent', 'factories', 'around', 'world', 'make', 'garments', 'though', 'growing', 'number', 'including', 'chanel', 'brunello', 'cucinelli', 'burberry', 'snapping', 'suppliers', 'ensure', 'access', 'highquality', 'materials', 'greater', 'operational', 'control', 'may', 'dior', 'said', 'would', 'pay', '23', 'million', 'help', 'victims', 'labor', 'exploitation', 'settle', 'investigation', 'italy', 'working', 'conditions', 'suppliers', 'mike', 'kempin', 'picturesgetty', 'images', 'issues', 'alone', 'arent', 'prompted', 'brands', 'assert', 'value', 'way', 'claudia', 'darpizio', 'senior', 'partner', 'global', 'head', 'fashion', 'luxury', 'consultancy', 'firm', 'bain', 'company', 'observed', 'recent', 'controversies', 'like', 'labor', 'scandals', 'price', 'inflation', 'may', 'accelerated', 'scrutiny', 'shift', 'less', 'reaction', 'individual', 'episodes', 'response', 'broader', 'erosion', 'trust', 'perceived', 'value', 'context', 'consumers', 'questioning', 'justifies', 'premium', 'prices', 'brands', 'going', 'back', 'made', 'meaningful', 'first', 'place', 'savoirfaire', 'narrative', 'cultural', 'relevance', 'said', 'tiktok', 'accounts', 'like', 'dhgateofficial', 'rosiesportswear', 'claim', 'sell', 'highvalue', 'luxury', 'items', 'directly', 'americans', 'dhgateofficialrosiesportsweartiktok', 'related', 'article', 'chinese', 'factories', 'taking', 'trade', 'war', 'somewhere', 'new', 'scrutiny', 'luxury', 'supply', 'chains', 'heightened', 'april', 'us', 'president', 'donald', 'trump', 'announced', 'stiff', 'tariffs', 'china', 'social', 'media', 'erupted', 'videos', 'chinese', 'manufacturers', 'claiming', 'expose', 'luxury', 'goods', 'come', 'many', 'declared', 'origin', 'luxury', 'goods', 'world', 'spending', 'italy', 'videos', 'garnered', 'much', 'attention', 'globally', 'best', 'people', 'longer', 'knew', 'believe', 'worst', 'believed', 'claims', 'entirely', 'incident', 'demonstrated', 'easy', 'sway', 'public', 'opinion', 'observed', 'audrey', 'dahmen', 'brand', 'strategy', 'marketing', 'lead', 'twentyfirstcenturybrand', 'global', 'brand', 'consultancy', 'clients', 'including', 'zalando', 'everlane', 'depop', 'especially', 'damaging', 'something', 'like', 'happens', 'luxury', 'brands', 'youre', 'spending', 'much', 'higher', 'price', 'point', 'would', 'brands', 'dahmen', 'added', 'call', 'part', 'image', 'right', 'aspirational', 'image', 'part', 'justification', 'price', 'creative', 'overhaul', 'taking', 'place', 'across', 'many', 'luxury', 'brands', 'including', 'tom', 'ford', 'labels', 'designer', 'haider', 'ackermann', 'showed', 'debut', 'collection', 'march', 'kristy', 'sparowgetty', 'images', 'miu', 'miu', 'owned', 'prada', 'continued', 'defy', 'luxury', 'slowdown', 'may', 'brand', 'reported', '60', 'jump', 'retail', 'sales', 'first', 'financial', 'quarter', 'victor', 'boykogetty', 'images', 'dahmen', 'attributed', 'public', 'reactions', 'new', 'consciousness', 'driven', 'rise', 'platforms', 'like', 'tiktok', 'explained', 'customers', 'notice', 'something', 'going', 'talk', 'last', 'year', 'someone', 'noticing', 'hey', 'bag', 'cost', 'something', 'like', '35', 'euros', 'make', 'paying', '2000', 'weve', 'always', 'known', 'experts', 'becoming', 'clear', 'actual', 'consumer', 'especially', 'squeezed', 'money', 'starting', 'make', 'better', 'decisions', 'highsnobietys', 'fischer', 'recent', 'big', 'changes', 'luxurys', 'creative', 'leadership', 'also', 'add', 'uncertainty', 'chanel', 'dior', 'balenciaga', 'gucci', 'celine', 'bottega', 'veneta', 'loewe', 'among', 'brands', 'whose', 'new', 'creative', 'directors', 'present', 'debut', 'collections', 'fall', 'meanwhile', 'givenchy', 'tom', 'ford', 'lanvin', 'calvin', 'klein', 'also', 'newish', 'designers', 'helm', 'brands', 'cycling', 'multiple', 'creative', 'directors', 'shoppers', 'might', 'even', 'like', 'designs', 'put', 'said', 'fischer', 'things', 'happening', 'ultimately', 'led', 'mistrust', 'luxury', 'word', 'sounds', 'bit', 'gimmicky', 'point', 'gorgeous', 'testaments', 'craft', 'june', 'italian', 'highend', 'shoemaker', 'santoni', 'put', 'hefty', 'new', 'hardcover', 'book', 'publisher', 'assouline', 'tome', 'features', '180', 'images', 'charts', 'labels', 'journey', 'five', 'decades', 'humble', 'beginnings', 'corridonia', 'italys', 'le', 'marche', 'region', 'becoming', 'global', 'multimilliondollar', 'business', 'also', 'sells', 'bags', 'belts', 'leather', 'goods', 'felt', 'like', 'right', 'time', 'tell', 'story', 'products', 'values', 'vision', 'identity', 'chairman', 'executive', 'president', 'giuseppe', 'santoni', 'told', 'cnn', 'email', 'believe', 'true', 'value', 'lies', 'product', 'gives', 'back', 'time', 'quality', 'longevity', 'emotion', 'carries', 'added', 'theres', 'growing', 'appreciation', 'today', 'authenticity', 'craftsmanship', 'human', 'touch', 'qualities', 'always', 'part', 'dna', 'book', 'way', 'opening', 'window', 'world', 'italian', 'luxury', 'brand', 'bottega', 'venetas', 'latest', 'campaign', 'craft', 'language', 'ode', 'tactility', 'slow', 'craft', 'fastpaced', 'digital', 'age', 'jack', 'davisoncourtesy', 'bottega', 'veneta', 'fellow', 'italian', 'label', 'tods', 'also', 'celebrating', 'launch', 'new', 'book', 'published', 'april', 'milans', 'designer', 'furniture', 'fair', 'salone', 'del', 'mobile', '286page', 'tome', 'features', 'series', 'intimate', 'portraits', 'conversations', 'shine', 'light', 'countrys', 'artisans', 'range', 'designer', 'walter', 'chiapponi', 'brands', 'creative', 'director', 'since', '2019', 'fishmonger', 'santa', 'margherita', 'glassblower', 'murano', 'series', 'events', 'promote', 'book', 'also', 'rolling', 'worldwide', 'new', 'york', 'london', 'meanwhile', 'luxury', 'label', 'bottega', 'veneta', 'shares', 'owner', 'gucci', 'saint', 'laurent', 'new', 'marketing', 'campaign', 'doubles', 'love', 'letter', 'slow', 'craft', 'tactility', 'digital', 'age', 'titled', 'craft', 'language', 'featuring', 'moody', 'black', 'white', 'endorsements', 'celebrities', 'julianne', 'moore', 'zadie', 'smith', 'lauren', 'hutton', 'celebrates', '50', 'years', 'brands', 'classic', 'intrecciato', 'leather', 'weave', 'theres', 'growing', 'appreciation', 'today', 'authenticity', 'craftsmanship', 'human', 'touch', 'qualities', 'always', 'part', 'dna', 'said', 'santonis', 'chairman', 'executive', 'president', 'giuseppe', 'santoni', 'oliver', 'pilchercourtesy', 'santoni', 'onslaught', 'craft', 'marketing', 'hit', 'consumers', 'playbook', 'new', 'tods', 'example', 'long', 'featured', 'artisans', 'part', 'presentations', 'milan', 'fashion', 'week', '2011', 'also', 'committed', 'funding', 'restoration', 'romes', 'colosseum', 'setting', 'precedent', 'stewardship', 'would', 'later', 'followed', 'luxury', 'peers', 'see', 'trevi', 'fountain', 'reopened', '2015', 'restoration', 'funded', 'fendi', 'spanish', 'steps', 'restored', '2016', 'thanks', 'bulgari', 'grand', 'palais', 'paris', 'reopened', 'january', 'spectacular', 'renovation', '25', 'million', '286', 'million', 'contributed', 'chanel', 'mandatory', 'credit', 'photo', 'andre', 'painepaefeshutterstock', '14552941cg', 'british', 'designer', 'jonathan', 'anderson', 'enters', 'runway', 'end', 'presentation', 'springsummer', '2025', 'menswear', 'collection', 'loewe', 'fashion', 'house', 'paris', 'fashion', 'week', 'paris', 'france', '22', 'june', '2024', 'presentation', 'mens', 'collections', 'runs', '18', '23', 'june', 'loewe', 'runway', 'men', 'paris', 'fashion', 'week', 'springsummer', '2025', 'france', '22', 'jun', '2024', 'andre', 'painepaefeshutterstock', 'related', 'article', 'designer', 'captures', 'zeitgeist', 'hes', 'taking', 'dior', 'loewe', 'founded', 'collective', 'leathermaking', 'artisans', 'since', '2016', 'run', 'loewe', 'foundation', 'craft', 'prize', 'annually', 'awarded', 'two', 'craftspeople', 'march', 'spanish', 'brand', 'introduced', 'new', 'book', 'crafted', 'world', 'celebrate', 'decade', 'work', 'former', 'creative', 'director', 'jonathan', 'anderson', 'paris', 'fashion', 'week', 'month', 'designers', 'final', 'collection', 'brand', 'show', 'however', 'starstudded', 'runway', 'designs', 'displayed', 'mannequins', 'guests', 'could', 'appreciate', 'close', 'focus', 'craft', 'makes', 'lot', 'sense', 'luxury', 'companies', 'close', 'core', 'business', 'also', 'one', 'safest', 'spaces', 'view', 'brand', 'strategist', 'dahmens', 'dei', 'sustainability', 'two', 'hot', 'topics', 'luxury', 'recent', 'years', 'ultimately', 'politically', 'charged', 'explained', 'get', 'politically', 'annoyed', 'someone', 'talking', 'crafts', 'feels', 'like', 'luxury', 'brands', 'going', 'back', 'taking', 'neutral', 'stance', 'exploring', 'safer', 'territories', 'minimal', 'legal', 'repercussions', 'ad', 'feedback', 'ad', 'feedback', 'ad', 'feedback', 'ad', 'feedback', 'ad', 'feedback', 'subscribe', 'sign', 'account', 'settings', 'newsletters', 'topics', 'follow', 'sign', 'cnn', 'account', 'sign', 'cnn', 'account', 'live', 'tv', 'listen', 'watch', 'us', 'crime', 'justice', 'world', 'africa', 'americas', 'asia', 'australia', 'china', 'europe', 'india', 'middle', 'east', 'united', 'kingdom', 'politics', 'trump', 'facts', 'first', 'cnn', 'polls', '2025', 'elections', 'business', 'tech', 'media', 'calculators', 'videos', 'markets', 'premarkets', 'afterhours', 'fear', 'greed', 'investing', 'markets', 'nightcap', 'health', 'life', 'better', 'fitness', 'food', 'sleep', 'mindfulness', 'relationships', 'cnn', 'underscored', 'electronics', 'fashion', 'beauty', 'health', 'fitness', 'home', 'reviews', 'deals', 'gifts', 'travel', 'outdoors', 'pets', 'entertainment', 'movies', 'television', 'celebrity', 'tech', 'innovate', 'foreseeable', 'future', 'mission', 'ahead', 'work', 'transformed', 'innovative', 'cities', 'style', 'arts', 'design', 'fashion', 'architecture', 'luxury', 'beauty', 'video', 'travel', 'destinations', 'food', 'drink', 'stay', 'news', 'videos', 'sports', 'pro', 'football', 'college', 'football', 'basketball', 'baseball', 'soccer', 'olympics', 'hockey', 'science', 'space', 'life', 'unearthed', 'climate', 'solutions', 'weather', 'weather', 'video', 'climate', 'ukrainerussia', 'war', 'israelhamas', 'war', 'watch', 'live', 'tv', 'cnn', 'headlines', 'cnn', 'shorts', 'shows', 'az', 'cnn10', 'cnn', 'max', 'cnn', 'tv', 'schedules', 'flashdocs', 'listen', 'cnn', '5', 'things', 'chasing', 'life', 'dr', 'sanjay', 'gupta', 'assignment', 'audie', 'cornish', 'one', 'thing', 'tug', 'war', 'cnn', 'political', 'briefing', 'axe', 'files', 'anderson', 'cooper', 'cnn', 'audio', 'podcasts', 'games', 'daily', 'crossword', 'jumble', 'crossword', 'photo', 'shuffle', 'sudoblock', 'sudoku', '5', 'things', 'quiz', 'cnn', 'subscribe', 'photos', 'investigations', 'cnn', 'profiles', 'cnn', 'leadership', 'cnn', 'newsletters', 'work', 'cnn', 'watch', 'listen', 'live', 'tv', 'follow', 'cnn', 'style', 'subscribe', 'sign', 'account', 'settings', 'newsletters', 'topics', 'follow', 'sign', 'cnn', 'account', 'sign', 'cnn', 'account', 'terms', 'use', 'privacy', 'policy', 'ad', 'choices', 'accessibility', 'cc', 'subscribe', 'newsletters', 'transcripts', 'help', 'center', '2025', 'cable', 'news', 'network', 'warner', 'bros', 'discovery', 'company', 'rights', 'reserved', 'cnn', 'sans', '2016', 'cable', 'news', 'network']\n"
          ]
        },
        {
          "output_type": "stream",
          "name": "stderr",
          "text": [
            "[nltk_data] Downloading package stopwords to /root/nltk_data...\n",
            "[nltk_data]   Package stopwords is already up-to-date!\n"
          ]
        }
      ]
    },
    {
      "cell_type": "code",
      "source": [
        "#Lemmatize the Text Lemmatize all remaining words (use NLTK’s WordNetLemmatizer) and print the first 50 lemmatized words. Is there any difference in your output if you stemmed the text?\n",
        "\n",
        "from nltk.stem import WordNetLemmatizer\n",
        "nltk.download('wordnet')\n",
        "lemmatizer = WordNetLemmatizer()\n",
        "lemmatized_words = [lemmatizer.lemmatize(word, 'v') for word in filtered_text]\n",
        "print(lemmatized_words[:50])"
      ],
      "metadata": {
        "colab": {
          "base_uri": "https://localhost:8080/"
        },
        "id": "QqGZj41dasql",
        "outputId": "16c566e9-7a71-43be-fee6-4626d99856cd"
      },
      "execution_count": null,
      "outputs": [
        {
          "output_type": "stream",
          "name": "stdout",
          "text": [
            "['luxury', 'brand', 'expensive', 'ever', 'theyre', 'tell', 'theyre', 'worth', 'cnn', 'cnn', 'value', 'feedback', '1', 'relevant', 'ad', '2', 'encounter', 'technical', 'issue', 'video', 'player', 'slow', 'load', 'content', 'video', 'content', 'never', 'load', 'ad', 'freeze', 'finish', 'load', 'video', 'content', 'start', 'ad', 'audio', 'ad', 'loud', 'issue', 'ad', 'never', 'load', 'ad', 'preventedslowed', 'page', 'load', 'content', 'move', 'around']\n"
          ]
        },
        {
          "output_type": "stream",
          "name": "stderr",
          "text": [
            "[nltk_data] Downloading package wordnet to /root/nltk_data...\n",
            "[nltk_data]   Package wordnet is already up-to-date!\n"
          ]
        }
      ]
    },
    {
      "cell_type": "code",
      "source": [
        "#Use the PortStemmer instead of the lemmatizer\n",
        "from nltk.stem import PorterStemmer\n",
        "stemmer = PorterStemmer()\n",
        "stemmed_words = [stemmer.stem(word) for word in filtered_text]\n",
        "print(stemmed_words[:50])"
      ],
      "metadata": {
        "colab": {
          "base_uri": "https://localhost:8080/"
        },
        "id": "IDBOBKYBdFRo",
        "outputId": "ecc8daa0-fa3e-400f-969c-74b1d392a20f"
      },
      "execution_count": null,
      "outputs": [
        {
          "output_type": "stream",
          "name": "stdout",
          "text": [
            "['luxuri', 'brand', 'expens', 'ever', 'theyr', 'tell', 'theyr', 'worth', 'cnn', 'cnn', 'valu', 'feedback', '1', 'relev', 'ad', '2', 'encount', 'technic', 'issu', 'video', 'player', 'slow', 'load', 'content', 'video', 'content', 'never', 'load', 'ad', 'froze', 'finish', 'load', 'video', 'content', 'start', 'ad', 'audio', 'ad', 'loud', 'issu', 'ad', 'never', 'load', 'ad', 'preventedslow', 'page', 'load', 'content', 'move', 'around']\n"
          ]
        }
      ]
    },
    {
      "cell_type": "markdown",
      "source": [
        "Differences in words like Luxury Vs Luxuri"
      ],
      "metadata": {
        "id": "MPswCl_1Fq3Y"
      }
    }
  ]
}